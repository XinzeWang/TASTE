{
 "cells": [
  {
   "cell_type": "code",
   "execution_count": 4,
   "metadata": {},
   "outputs": [
    {
     "name": "stdout",
     "output_type": "stream",
     "text": [
      "[[2.14376041e+00 1.55067225e+00 0.00000000e+00 ... 6.11305318e-01\n",
      "  0.00000000e+00 4.89210960e-05]\n",
      " [1.44593584e+00 0.00000000e+00 3.73337045e-01 ... 5.67337070e-01\n",
      "  7.28283952e-01 8.67063859e-01]\n",
      " [0.00000000e+00 2.79425220e+00 4.13424089e-01 ... 6.78646460e-01\n",
      "  6.04599357e-03 9.60529632e-03]\n",
      " ...\n",
      " [1.53500667e+00 0.00000000e+00 3.38410713e-01 ... 4.04009202e-01\n",
      "  1.29366123e+00 0.00000000e+00]\n",
      " [1.68632778e+00 1.77878234e+00 4.33670186e-01 ... 4.03469385e-01\n",
      "  1.25293854e+00 0.00000000e+00]\n",
      " [1.14294019e+00 2.33049947e-02 0.00000000e+00 ... 1.45530958e+00\n",
      "  1.15299854e-02 8.81664440e-01]]\n",
      "(12494, 15)\n"
     ]
    }
   ],
   "source": [
    "from taste_frame import *\n",
    "from nonnegfac import *\n",
    "import numpy as np\n",
    "import numpy.matlib\n",
    "from matplotlib import pyplot as plt\n",
    "import h5py\n",
    "import scipy\n",
    "\n",
    "try:\n",
    "    fi = h5py.File(\"15.mat\", 'r')\n",
    "except OSError:\n",
    "    fi = scipy.io.loadmat(\"15.mat\")\n",
    "\n",
    "print(fi['W'])\n",
    "\n",
    "print(fi['W'].shape)"
   ]
  }
 ],
 "metadata": {
  "kernelspec": {
   "display_name": "Python 3",
   "language": "python",
   "name": "python3"
  },
  "language_info": {
   "codemirror_mode": {
    "name": "ipython",
    "version": 3
   },
   "file_extension": ".py",
   "mimetype": "text/x-python",
   "name": "python",
   "nbconvert_exporter": "python",
   "pygments_lexer": "ipython3",
   "version": "3.7.4"
  }
 },
 "nbformat": 4,
 "nbformat_minor": 2
}
