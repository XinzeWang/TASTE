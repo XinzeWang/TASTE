{
 "cells": [
  {
   "cell_type": "code",
   "execution_count": 162,
   "metadata": {},
   "outputs": [
    {
     "data": {
      "text/plain": "<Figure size 432x288 with 1 Axes>",
      "image/png": "[encoded data removed]"
     },
     "metadata": {
      "needs_background": "light"
     },
     "output_type": "display_data"
    }
   ],
   "source": [
    "import numpy as np\n",
    "import numpy.matlib\n",
    "from matplotlib import pyplot as plt\n",
    "import pandas as pd\n",
    "from scipy.sparse import csr_matrix\n",
    "# this package is from https://www.cc.gatech.edu/~hpark/nmfsoftware.php\n",
    "\n",
    "\n",
    "R, static, dynamic = 5, \"static.csv\", \"dynamic.csv\"\n",
    "\n",
    "\n",
    "A = pd.read_csv(static, header = 0)\n",
    "A = A[A[\"is_case\"] == 1]\n",
    "XK = pd.read_csv(dynamic, header = 0)\n",
    "\n",
    "K, P = A.shape\n",
    "X_height = XK.shape[0]\n",
    "J = max(XK[\"code\"])\n",
    "X = []\n",
    "j = 0\n",
    "for k in range(K):\n",
    "    while j < X_height and A.iloc[k, 0] != XK.iloc[j, 0]:\n",
    "        j += 1\n",
    "    start = j\n",
    "    while j < X_height and A.iloc[k, 0] == XK.iloc[j, 0]:\n",
    "        j += 1\n",
    "    X.append(XK.iloc[start : j, 1:])\n",
    "\n",
    "A = A.iloc[:, 1:-1]\n",
    "\n",
    "for k in range(K):\n",
    "    X[k] = csr_matrix(([1 for _ in range(X[k].shape[0])], ((X[k][\"r\"]-1), (X[k][\"code\"]-1))), shape = (X[k][\"r\"].iloc[-1], J))\n",
    "\n",
    "# A = np.ones(12494, 1)\n",
    "A = A.to_numpy()\n",
    "data_name = \"CMS\"\n",
    "\n",
    "lambda_ = 1\n",
    "mu = 1\n",
    "conv_tol = 1e-4 #converegance tolerance\n",
    "PARFOR_FLAG = 0 #parallel computing\n",
    "\n",
    "import importlib\n",
    "import sys\n",
    "if \"C:\\\\Users\\\\xli858\\\\Desktop\\\\TASTE\" not in sys.path:\n",
    "    sys.path.append(\"C:\\\\Users\\\\xli858\\\\Desktop\\\\TASTE\")\n",
    "\n",
    "import taste_frame\n",
    "import nonnegfac\n",
    "importlib.reload(taste_frame)\n",
    "importlib.reload(nonnegfac)\n",
    "\n",
    "normX, normA, Size_input = taste_frame.claculate_norm(X,A,K,PARFOR_FLAG) #Calculate the norm of the input X\n",
    "Constraints = ['nonnegative', 'nonnegative','nonnegative','nonnegative']\n",
    "\n",
    "itr = 5\n",
    "seed = 1\n",
    "\n",
    "TOTAL_running_TIME,rmse,FIT_Tensor,FIT_Matrix,RMSE_TIME,U,Q,H,V,W,F = taste_frame.TASTE_BPP(X,A,R,conv_tol,seed,PARFOR_FLAG,normX,normA,Size_input,Constraints,mu,lambda_)\n",
    "\n",
    "fig = plt.figure()\n",
    "\n",
    "plt.plot([tup[0] for tup in RMSE_TIME], [tup[1] for tup in RMSE_TIME])\n",
    "plt.xlabel(\"Time\")\n",
    "plt.ylabel(\"RMSE\")\n",
    "plt.savefig(str(R) + \".png\")"
   ]
  },
  {
   "cell_type": "code",
   "execution_count": 163,
   "outputs": [
    {
     "data": {
      "text/plain": "<Figure size 432x288 with 1 Axes>",
      "image/png": "[encoded data removed]"
     },
     "metadata": {
      "needs_background": "light"
     },
     "output_type": "display_data"
    }
   ],
   "source": [
    "A = pd.read_csv(static, header = 0)\n",
    "A = A[A[\"is_case\"] == 0]\n",
    "XK = pd.read_csv(dynamic, header = 0)\n",
    "\n",
    "K, P = A.shape\n",
    "X_height = XK.shape[0]\n",
    "J = max(XK[\"code\"])\n",
    "X = []\n",
    "j = 0\n",
    "for k in range(K):\n",
    "    while j < X_height and A.iloc[k, 0] != XK.iloc[j, 0]:\n",
    "        j += 1\n",
    "    start = j\n",
    "    while j < X_height and A.iloc[k, 0] == XK.iloc[j, 0]:\n",
    "        j += 1\n",
    "    X.append(XK.iloc[start : j, 1:])\n",
    "\n",
    "A = A.iloc[:, 1:-1]\n",
    "\n",
    "for k in range(K):\n",
    "    X[k] = csr_matrix(([1 for _ in range(X[k].shape[0])], ((X[k][\"r\"]-1), (X[k][\"code\"]-1))), shape = (X[k][\"r\"].iloc[-1], J))\n",
    "\n",
    "# A = np.ones(12494, 1)\n",
    "A = A.to_numpy()\n",
    "data_name = \"CMS\"\n",
    "\n",
    "lambda_ = 1\n",
    "mu = 1\n",
    "conv_tol = 1e-4 #converegance tolerance\n",
    "PARFOR_FLAG = 0 #parallel computing\n",
    "\n",
    "import importlib\n",
    "import sys\n",
    "if \"C:\\\\Users\\\\xli858\\\\Desktop\\\\TASTE\" not in sys.path:\n",
    "    sys.path.append(\"C:\\\\Users\\\\xli858\\\\Desktop\\\\TASTE\")\n",
    "\n",
    "import taste_frame\n",
    "import nonnegfac\n",
    "importlib.reload(taste_frame)\n",
    "importlib.reload(nonnegfac)\n",
    "\n",
    "normX, normA, Size_input = taste_frame.claculate_norm(X,A,K,PARFOR_FLAG) #Calculate the norm of the input X\n",
    "Constraints = ['nonnegative', 'nonnegative','nonnegative','nonnegative']\n",
    "\n",
    "itr = 5\n",
    "seed = 1\n",
    "\n",
    "import PARACoupl2_BPP\n",
    "importlib.reload(PARACoupl2_BPP)\n",
    "\n",
    "TOTAL_running_TIME,RMSE,FIT_T,FIT_M,RMSE_TIME,U,Q,H,V,W,F = PARACoupl2_BPP.PARACoupl2_BPP( X,A,V,F,H,R,conv_tol,seed,PARFOR_FLAG,normX,normA,Size_input,Constraints,mu,lambda_ )\n",
    "\n",
    "fig = plt.figure()\n",
    "\n",
    "plt.plot([tup[0] for tup in RMSE_TIME], [tup[1] for tup in RMSE_TIME])\n",
    "plt.xlabel(\"Time\")\n",
    "plt.ylabel(\"RMSE\")\n",
    "plt.savefig(str(R) + \"_projection.png\")\n"
   ],
   "metadata": {
    "collapsed": false,
    "pycharm": {
     "name": "#%%\n"
    }
   }
  }
 ],
 "metadata": {
  "kernelspec": {
   "display_name": "Python 3",
   "language": "python",
   "name": "python3"
  },
  "language_info": {
   "codemirror_mode": {
    "name": "ipython",
    "version": 3
   },
   "file_extension": ".py",
   "mimetype": "text/x-python",
   "name": "python",
   "nbconvert_exporter": "python",
   "pygments_lexer": "ipython3",
   "version": "3.7.4"
  }
 },
 "nbformat": 4,
 "nbformat_minor": 2
}