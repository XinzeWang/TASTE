{
 "cells": [
  {
   "cell_type": "code",
   "execution_count": 64,
   "metadata": {},
   "outputs": [],
   "source": [
    "import numpy as np\n",
    "import numpy.matlib\n",
    "from matplotlib import pyplot as plt\n",
    "import pandas as pd\n",
    "from scipy.sparse import csr_matrix\n",
    "# this package is from https://www.cc.gatech.edu/~hpark/nmfsoftware.php\n",
    "\n",
    "\n",
    "\n",
    "A = pd.read_csv('static_feature.csv', header = None)\n",
    "A = A[A[1] == 1]\n",
    "XK = pd.read_csv('design_matrix_3.csv', header = None)\n",
    "XK = XK[XK[3] == 1]\n",
    "K, P = A.shape\n",
    "X_height = XK.shape[0]\n",
    "R = max(XK.iloc[:, 2])\n",
    "X = []\n",
    "j = 0\n",
    "for k in range(K):\n",
    "    start = j\n",
    "    while j < X_height and A.iloc[k, 0] == XK.iloc[j, 0]:\n",
    "        j += 1\n",
    "    X.append(XK.iloc[start : j, 1:-1])\n",
    "A = A.iloc[:, 2:-1]\n",
    "A[2] = 2010 - A[2] // 10000\n",
    "for k in range(K):\n",
    "    X[k] = csr_matrix(([1] * X[k].shape[0], ((X[k][1]-1), (X[k][2]-1))), shape = (X[k].iloc[-1, 0], R))\n",
    "\n",
    "R = 5\n",
    "A = A.to_numpy()\n",
    "\n",
    "data_name = \"Synethetic_data\"\n",
    "\n",
    "lambda_ = 1\n",
    "mu = 1\n",
    "conv_tol = 1e-5 #converegance tolerance\n",
    "PARFOR_FLAG = 0 #parallel computing\n"
   ]
  },
  {
   "cell_type": "code",
   "execution_count": 141,
   "metadata": {},
   "outputs": [],
   "source": [
    "import importlib\n",
    "import sys\n",
    "if \"C:\\\\Users\\\\xli858\\\\Desktop\\\\TASTE\" not in sys.path:\n",
    "    sys.path.append(\"C:\\\\Users\\\\xli858\\\\Desktop\\\\TASTE\")\n",
    "\n",
    "import taste_frame\n",
    "import nonnegfac\n",
    "importlib.reload(taste_frame)\n",
    "importlib.reload(nonnegfac)\n",
    "\n",
    "normX, normA, Size_input = taste_frame.claculate_norm(X,A,K,PARFOR_FLAG) #Calculate the norm of the input X\n",
    "Constraints = ['nonnegative', 'nonnegative','nonnegative','nonnegative']\n",
    "\n",
    "itr = 5\n",
    "seed = 1\n",
    "\n",
    "TOTAL_running_TIME,rmse,FIT_Tensor,FIT_Matrix,RMSE_TIME,U,Q,H,V,W,F = taste_frame.TASTE_BPP(X,A,R,conv_tol,seed,PARFOR_FLAG,normX,normA,Size_input,Constraints,mu,lambda_)\n"
   ]
  },
  {
   "cell_type": "code",
   "execution_count": 145,
   "metadata": {},
   "outputs": [
    {
     "data": {
      "text/plain": "Text(0, 0.5, 'RMSE')"
     },
     "execution_count": 145,
     "metadata": {},
     "output_type": "execute_result"
    },
    {
     "data": {
      "text/plain": "<Figure size 432x288 with 1 Axes>",
      "image/png": "[encoded data removed]"
     },
     "metadata": {
      "needs_background": "light"
     },
     "output_type": "display_data"
    }
   ],
   "source": [
    "fig = plt.figure()\n",
    "\n",
    "plt.plot([tup[0] for tup in RMSE_TIME], [tup[1] for tup in RMSE_TIME])\n",
    "plt.xlabel(\"Time\")\n",
    "plt.ylabel(\"RMSE\")"
   ]
  }
 ],
 "metadata": {
  "kernelspec": {
   "display_name": "Python 3",
   "language": "python",
   "name": "python3"
  },
  "language_info": {
   "codemirror_mode": {
    "name": "ipython",
    "version": 3
   },
   "file_extension": ".py",
   "mimetype": "text/x-python",
   "name": "python",
   "nbconvert_exporter": "python",
   "pygments_lexer": "ipython3",
   "version": "3.7.4"
  }
 },
 "nbformat": 4,
 "nbformat_minor": 2
}